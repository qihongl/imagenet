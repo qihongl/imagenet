{
 "cells": [
  {
   "cell_type": "markdown",
   "metadata": {},
   "source": [
    "### Horikawa & Kamitani (2017) experiment on AlexNets"
   ]
  },
  {
   "cell_type": "code",
   "execution_count": 1,
   "metadata": {},
   "outputs": [
    {
     "name": "stderr",
     "output_type": "stream",
     "text": [
      "/home/qlu/.conda/envs/brainiak/lib/python3.6/site-packages/h5py/__init__.py:36: FutureWarning: Conversion of the second argument of issubdtype from `float` to `np.floating` is deprecated. In future, it will be treated as `np.float64 == np.dtype(float).type`.\n",
      "  from ._conv import register_converters as _register_converters\n"
     ]
    },
    {
     "data": {
      "application/javascript": [
       "IPython.notebook.set_autosave_interval(5000)"
      ]
     },
     "metadata": {},
     "output_type": "display_data"
    },
    {
     "name": "stdout",
     "output_type": "stream",
     "text": [
      "Autosaving every 5 seconds\n",
      "/tigress/qlu/logs/ILSVRC2012/ckpt-alexnet00\n"
     ]
    }
   ],
   "source": [
    "import os\n",
    "import tensorflow as tf\n",
    "import numpy as np\n",
    "import pandas as pd \n",
    "import glob\n",
    "import pickle\n",
    "import tables\n",
    "\n",
    "from pylab import *\n",
    "from hurry.filesize import size\n",
    "\n",
    "import matplotlib.pyplot as plt \n",
    "import seaborn as sns \n",
    "sns.set(style = 'white', font_scale=1.3)\n",
    "\n",
    "import train_util as tu\n",
    "from models import alexnet\n",
    "from qmvpa import rsa\n",
    "from qutils import * \n",
    "\n",
    "%autosave 5\n",
    "\n",
    "condition = 'test'\n",
    "\n",
    "# top_k = 5\n",
    "# k_patches = 5\n",
    "# display_step = 10\n",
    "n_layers = 8\n",
    "layer_names = ['conv%d' % (l+1) for l in range(5)] + ['fc%d' % (l+1) for l in range(3)]\n",
    "\n",
    "ckpt_path = '/tigress/qlu/logs/ILSVRC2012/ckpt-alexnet00'\n",
    "imagenet_path = '/scratch/gpfs/qlu/ILSVRC2012'\n",
    "print(ckpt_path)\n",
    "\n",
    "\n",
    "# kamitani specific dir \n",
    "kamitani_path = '/scratch/gpfs/qlu/kamitani2017/images'\n",
    "category_im_dir = train_im_dir = 'training'\n",
    "instance_im_dir = test_im_dir = 'test'\n",
    "train_ims_root = os.path.join(kamitani_path, category_im_dir)\n",
    "test_ims_root = os.path.join(kamitani_path, instance_im_dir)\n",
    "\n",
    "# stim order files \n",
    "label_map_dir = '/tigress/qlu/data/fmri_imagenet/data/labelmaps'\n",
    "train_stim_order_fname = 'train_stimuli_presentation_order.npz'\n",
    "test_stim_order_fname = 'test_stimuli_presentation_order.npz'\n",
    "\n",
    "# load the bijection: full_id <-> image_full_name\n",
    "map_path = os.path.join(label_map_dir, 'dict_im_full_name_to_full_id.pickle')\n",
    "with open(map_path, 'rb') as handle:\n",
    "    dict_im_full_name_to_full_id = pickle.load(handle)"
   ]
  },
  {
   "cell_type": "code",
   "execution_count": 2,
   "metadata": {},
   "outputs": [],
   "source": [
    "# get image paths in the correct order \n",
    "def get_ordered_im_paths(condition):\n",
    "    if condition == 'train': \n",
    "        stim_order_fname = train_stim_order_fname\n",
    "        ims_root = train_ims_root\n",
    "    elif condition == 'test':\n",
    "        stim_order_fname = test_stim_order_fname\n",
    "        ims_root = test_ims_root\n",
    "    else:\n",
    "        raise ValueError('unrecog condition')\n",
    "        \n",
    "    _, stim_ordered_im_paths = read_stimuli_order(\n",
    "        stim_order_fname, label_map_dir)\n",
    "    stim_ordered_im_paths_tiger = []\n",
    "\n",
    "    for im_raw_path in stim_ordered_im_paths: \n",
    "        im_dir = os.path.basename(os.path.dirname(im_raw_path))\n",
    "        im_name = os.path.basename(im_raw_path)\n",
    "        im_path = os.path.join(ims_root, im_dir, im_name)\n",
    "        assert os.path.exists(im_path)\n",
    "        stim_ordered_im_paths_tiger.append(im_path)\n",
    "    return stim_ordered_im_paths_tiger\n",
    "\n",
    "# read the paths for training set and test set \n",
    "# in order! \n",
    "train_stim_ordered_im_paths_tiger = get_ordered_im_paths('train')\n",
    "test_stim_ordered_im_paths_tiger = get_ordered_im_paths('test')"
   ]
  },
  {
   "cell_type": "code",
   "execution_count": 3,
   "metadata": {},
   "outputs": [],
   "source": [
    "# set up the computational graph \n",
    "x = tf.placeholder(tf.float32, [None, 224, 224, 3])\n",
    "y = tf.placeholder(tf.float32, [None, 1000])\n",
    "\n",
    "_, pred = alexnet.classifier(x, 1.0)\n",
    "\n",
    "# # calculate the average precision of the crops of the image\n",
    "# avg_prediction = tf.div(tf.reduce_sum(pred, 0), k_patches)\n",
    "\n",
    "# # preallocate for accuracy\n",
    "# top1_correct = tf.equal(tf.argmax(avg_prediction, 0), tf.argmax(y, 1))\n",
    "# top1_accuracy = tf.reduce_mean(tf.cast(top1_correct, tf.float32))\n",
    "# topk_correct = tf.nn.in_top_k(tf.stack([avg_prediction]), tf.argmax(y, 1), k=top_k)\n",
    "# topk_accuracy = tf.reduce_mean(tf.cast(topk_correct, tf.float32))\n",
    "\n",
    "# load the model back \n",
    "saver = tf.train.Saver()"
   ]
  },
  {
   "cell_type": "code",
   "execution_count": 4,
   "metadata": {},
   "outputs": [
    {
     "name": "stdout",
     "output_type": "stream",
     "text": [
      "INFO:tensorflow:Restoring parameters from /tigress/qlu/logs/ILSVRC2012/ckpt-alexnet00/alexnet-cnn.ckpt\n"
     ]
    }
   ],
   "source": [
    "sess = tf.InteractiveSession()\n",
    "saver.restore(sess, os.path.join(ckpt_path, 'alexnet-cnn.ckpt'))"
   ]
  },
  {
   "cell_type": "code",
   "execution_count": 5,
   "metadata": {},
   "outputs": [],
   "source": [
    "# choose the number of repeats \n",
    "# k_patches = 50\n",
    "\n",
    "# define the image set\n",
    "if condition == 'train':\n",
    "    image_set = train_stim_ordered_im_paths_tiger\n",
    "    k_patches = 1\n",
    "elif condition == 'test':\n",
    "    image_set = test_stim_ordered_im_paths_tiger\n",
    "    k_patches = 45\n",
    "else:\n",
    "    raise ValueError('unrecog condition')\n",
    "\n",
    "# get layer name \n",
    "conv1 = tf.get_default_graph().get_tensor_by_name('alexnet_cnn/alexnet_cnn_conv1/Relu:0')\n",
    "conv2 = tf.get_default_graph().get_tensor_by_name('alexnet_cnn/alexnet_cnn_conv2/Relu:0')\n",
    "conv3 = tf.get_default_graph().get_tensor_by_name('alexnet_cnn/alexnet_cnn_conv3/Relu:0')\n",
    "conv4 = tf.get_default_graph().get_tensor_by_name('alexnet_cnn/alexnet_cnn_conv4/Relu:0')\n",
    "conv5 = tf.get_default_graph().get_tensor_by_name('alexnet_cnn/alexnet_cnn_conv5/Relu:0')\n",
    "fc1 = tf.get_default_graph().get_tensor_by_name('alexnet_classifier/alexnet_classifier_fc1/Relu:0')\n",
    "fc2 = tf.get_default_graph().get_tensor_by_name('alexnet_classifier/alexnet_classifier_fc2/Relu:0')\n",
    "fc3 = tf.get_default_graph().get_tensor_by_name('alexnet_classifier/alexnet_classifier_output/Add:0')\n",
    "\n",
    "n_imgs = len(image_set)\n",
    "# fetches = []\n",
    "conv1s, conv2s, conv3s, conv4s, conv5s, fc1s, fc2s, fc3s = [], [], [], [], [], [], [], []\n",
    "\n",
    "conv1_fs = np.zeros([n_imgs, k_patches] + conv1.get_shape().as_list()[1:])\n",
    "conv2_fs = np.zeros([n_imgs, k_patches] + conv2.get_shape().as_list()[1:])\n",
    "conv3_fs = np.zeros([n_imgs, k_patches] + conv3.get_shape().as_list()[1:])\n",
    "conv4_fs = np.zeros([n_imgs, k_patches] + conv4.get_shape().as_list()[1:])\n",
    "conv5_fs = np.zeros([n_imgs, k_patches] + conv5.get_shape().as_list()[1:])\n",
    "fc1_fs = np.zeros([n_imgs, k_patches] + fc1.get_shape().as_list()[1:])\n",
    "fc2_fs = np.zeros([n_imgs, k_patches] + fc2.get_shape().as_list()[1:])\n",
    "fc3_fs = np.zeros([n_imgs, k_patches] + fc3.get_shape().as_list()[1:])\n",
    "\n",
    "for im_idx in range(n_imgs):\n",
    "\n",
    "    image_patches = tu.read_k_patches(image_set[im_idx], k_patches)\n",
    "\n",
    "    # gather neural activity \n",
    "    fetch_list = [conv1, conv2, conv3, conv4, conv5, fc1, fc2, fc3]\n",
    "    fetched_list = sess.run(fetch_list, feed_dict={x: image_patches})\n",
    "    [conv1_f, conv2_f, conv3_f, conv4_f, conv5_f, fc1_f, fc2_f, fc3_f] = fetched_list\n",
    "\n",
    "    # collect the activities\n",
    "    conv1_fs[im_idx] = conv1_f\n",
    "    conv2_fs[im_idx] = conv2_f\n",
    "    conv3_fs[im_idx] = conv3_f\n",
    "    conv4_fs[im_idx] = conv4_f\n",
    "    conv5_fs[im_idx] = conv5_f\n",
    "    fc1_fs[im_idx] = fc1_f\n",
    "    fc2_fs[im_idx] = fc2_f\n",
    "    fc3_fs[im_idx] = fc3_f\n",
    "    \n",
    "# flatten arrays for conv layers \n",
    "conv1_fs = np.reshape(conv1_fs, [n_imgs, k_patches, -1])\n",
    "conv2_fs = np.reshape(conv2_fs, [n_imgs, k_patches, -1])\n",
    "conv3_fs = np.reshape(conv3_fs, [n_imgs, k_patches, -1])\n",
    "conv4_fs = np.reshape(conv4_fs, [n_imgs, k_patches, -1])\n",
    "conv5_fs = np.reshape(conv5_fs, [n_imgs, k_patches, -1])"
   ]
  },
  {
   "cell_type": "code",
   "execution_count": 6,
   "metadata": {},
   "outputs": [
    {
     "name": "stdout",
     "output_type": "stream",
     "text": [
      "/tigress/qlu/logs/ILSVRC2012/ckpt-alexnet00/acts/test\n",
      "Save conv1: size = (50, 45, 301056)\n",
      "Save conv2: size = (50, 45, 186624)\n",
      "Save conv3: size = (50, 45, 64896)\n",
      "Save conv4: size = (50, 45, 64896)\n",
      "Save conv5: size = (50, 45, 43264)\n",
      "Save fc1: size = (50, 45, 4096)\n",
      "Save fc2: size = (50, 45, 4096)\n",
      "Save fc3: size = (50, 45, 1000)\n"
     ]
    }
   ],
   "source": [
    "act_path = os.path.join(ckpt_path, 'acts', condition)\n",
    "if not os.path.exists(act_path):\n",
    "    os.makedirs(act_path)\n",
    "print(act_path) \n",
    "\n",
    "layer_names = ['conv%d' % (l+1) for l in range(5)] + ['fc%d' % (l+1) for l in range(3)]\n",
    "layer_acts_fs = [conv1_fs, conv2_fs, conv3_fs, conv4_fs, conv5_fs, \n",
    "              fc1_fs, fc2_fs, fc3_fs]\n",
    "\n",
    "for layer_act, layer_name in zip(layer_acts_fs, layer_names): \n",
    "    print('Save %s: size = %s' % (layer_name, np.shape(layer_act)))\n",
    "    np.savez_compressed(os.path.join(act_path, layer_name), \n",
    "                        acts=layer_act)"
   ]
  },
  {
   "cell_type": "code",
   "execution_count": 7,
   "metadata": {},
   "outputs": [],
   "source": [
    "# def unroll_acts_list(acts_list):\n",
    "#     \"\"\"Unroll the layer-wise activation for a patches of images \n",
    "    \n",
    "#     Parameters: \n",
    "#     -----------------\n",
    "#     acts_list: a list with length == number of layers in a neural network \n",
    "#         - each entry has shape (n_patches, h, w, n_filters)\n",
    "\n",
    "#     Returns: \n",
    "#     -----------------    \n",
    "#     acts_list_ur: a list of unrolled activity \n",
    "#         - each entry has shape (n_patches, h x w x n_filters)\n",
    "#     \"\"\"\n",
    "#     n_layers = len(acts_list)\n",
    "#     acts_list_ur = []\n",
    "#     for l in range(n_layers): \n",
    "#         acts_list_ur.append(np.reshape(acts_list[l], (k_patches, -1)))\n",
    "#     return acts_list_ur\n",
    "\n",
    "# def unroll_acts_lists(acts_lists): \n",
    "#     \"\"\"The wrapper for unroll_acts_list, over all images \n",
    "#     \"\"\"\n",
    "#     n_images = len(acts_lists)\n",
    "#     acts_lists_ur = []\n",
    "#     for im_idx in range(n_images): \n",
    "#         acts_lists_ur.append(unroll_acts_list(acts_lists[im_idx]))\n",
    "#     return acts_lists_ur\n",
    "\n",
    "# def print_shapes_arraylist(arraylist):\n",
    "#     for arr in arraylist: \n",
    "#         print(np.shape(arr))\n",
    "\n",
    "# def print_dims_arraylist(arraylist):\n",
    "#     for arr in arraylist: \n",
    "#         print(np.cumprod(np.shape(arr))[-1])"
   ]
  },
  {
   "cell_type": "code",
   "execution_count": 8,
   "metadata": {},
   "outputs": [],
   "source": [
    "# np.shape()\n",
    "# temp = pd.DataFrame(data = to_mat(fc3_fs))\n",
    "# temp"
   ]
  },
  {
   "cell_type": "code",
   "execution_count": 9,
   "metadata": {},
   "outputs": [],
   "source": [
    "# unroll activities for all images \n",
    "# acts_lists_ur [n_imgs][n_layer][n_patches, n_units]\n",
    "# acts_lists_ur = unroll_acts_lists(fetches)\n",
    "\n",
    "# save activities "
   ]
  },
  {
   "cell_type": "code",
   "execution_count": 10,
   "metadata": {},
   "outputs": [],
   "source": [
    "# # average out k patches \n",
    "# for i in range(n_imgs):\n",
    "#     for l in range(n_layers): \n",
    "#         acts_lists_ur[i][l] = np.mean(acts_lists_ur[i][l], axis = 0)"
   ]
  },
  {
   "cell_type": "code",
   "execution_count": 11,
   "metadata": {},
   "outputs": [],
   "source": [
    "# h5file = openFile(os.path.join(ckpt_path, 'acts_test.h5'), \n",
    "#                          mode='w', title=\"acts_test\")\n",
    "# root = h5file.root\n",
    "# h5file.createArray(root, \"test\", acts_lists_ur)\n",
    "# h5file.close()"
   ]
  },
  {
   "cell_type": "code",
   "execution_count": 12,
   "metadata": {},
   "outputs": [],
   "source": [
    "# l = 0 \n",
    "# im_id = 0 \n",
    "\n",
    "# size(acts_lists_ur[im_id][l].nbytes)\n",
    "\n",
    "# def compute_size(acts_lists_ur): \n",
    "#     n_bytes = 0\n",
    "#     for im_id in range(n_imgs):\n",
    "#         for l in range(n_layers):\n",
    "#             n_bytes += acts_lists_ur[im_id][l].nbytes\n",
    "#     return size(n_bytes)\n",
    "            \n",
    "# print(compute_size(acts_lists_ur))"
   ]
  },
  {
   "cell_type": "code",
   "execution_count": 13,
   "metadata": {},
   "outputs": [],
   "source": [
    "def to_mat(raw_acts):\n",
    "    return np.reshape(raw_acts, [-1, np.shape(raw_acts)[-1]]).T\n",
    "\n",
    "\n",
    "def show_heatmap(heatmap, k):\n",
    "    # compute a mask\n",
    "    mask = np.zeros(np.shape(heatmap))\n",
    "    mask[np.triu_indices_from(mask, k=k)] = True\n",
    "    # manage tick frequency \n",
    "    tick_frequency = 10\n",
    "    n_egs = np.shape(heatmap)[0]\n",
    "    n_ticks = n_egs//tick_frequency\n",
    "    # plot \n",
    "    my_heatmap = sns.heatmap(heatmap,\n",
    "                            cmap=\"viridis\",\n",
    "                            xticklabels = n_ticks, \n",
    "                            yticklabels = n_ticks,\n",
    "                            mask=mask, square=True,\n",
    "                            cbar=True)\n",
    "    return my_heatmap"
   ]
  },
  {
   "cell_type": "code",
   "execution_count": 14,
   "metadata": {},
   "outputs": [],
   "source": [
    "# RSA\n",
    "from qmvpa.utils import window_avg\n",
    "\n",
    "# layer_id = 7\n",
    "act_mat = to_mat(fc3_fs)\n",
    "# act_mat = window_avg(act_mat.T, 8).T\n",
    "# print(np.shape(act_mat))\n",
    "\n",
    "rsm = rsa.inter_RSM(act_mat, act_mat)"
   ]
  },
  {
   "cell_type": "code",
   "execution_count": 15,
   "metadata": {},
   "outputs": [
    {
     "data": {
      "image/png": "[encoded data removed]",
      "text/plain": [
       "<matplotlib.figure.Figure at 0x2b8da1476d68>"
      ]
     },
     "metadata": {},
     "output_type": "display_data"
    }
   ],
   "source": [
    "\"\"\"heat map\"\"\"\n",
    "rsm_plt = show_heatmap(rsm, 1)"
   ]
  },
  {
   "cell_type": "code",
   "execution_count": 16,
   "metadata": {},
   "outputs": [],
   "source": [
    "# \"\"\"violin\"\"\"\n",
    "# n_ani = 14\n",
    "# n_inani = n_imgs - n_ani\n",
    "# rsm_tril = np.tril(rsm, -1)\n",
    "\n",
    "# corrs_ani = np.reshape(rsm_tril[:n_ani, :n_ani], (-1,))\n",
    "# corrs_inani = np.reshape(rsm_tril[n_ani:, n_ani:], (-1,))\n",
    "# corrs_cross = np.reshape(rsm_tril[n_ani:, :n_ani], (-1))\n",
    "\n",
    "# corrs_ani = corrs_ani[corrs_ani != 0]\n",
    "# corrs_inani = corrs_inani[corrs_inani !=0 ]\n",
    "# corrs_cross = corrs_cross[corrs_cross != 0]\n",
    "\n",
    "# mean_ani = np.mean(corrs_ani)\n",
    "# mean_inani = np.mean(corrs_inani)\n",
    "# mean_cross = np.mean(corrs_cross)"
   ]
  },
  {
   "cell_type": "code",
   "execution_count": 17,
   "metadata": {},
   "outputs": [],
   "source": [
    "# corrs = pd.DataFrame({\n",
    "#     'correlation' : np.concatenate([corrs_ani, corrs_inani, corrs_cross]), \n",
    "#     'conditions':['w/in animates'] * len(corrs_ani) +  ['w/in inanimates'] * len(corrs_inani) + \n",
    "#     ['across'] * len(corrs_cross)\n",
    "# })\n",
    "# ax = sns.violinplot(x = 'conditions', y = 'correlation', data=corrs)\n",
    "# ax.axhline(0, color = 'black', linestyle = '--')"
   ]
  },
  {
   "cell_type": "code",
   "execution_count": null,
   "metadata": {},
   "outputs": [],
   "source": []
  }
 ],
 "metadata": {
  "kernelspec": {
   "display_name": "Python 3",
   "language": "python",
   "name": "python3"
  },
  "language_info": {
   "codemirror_mode": {
    "name": "ipython",
    "version": 3
   },
   "file_extension": ".py",
   "mimetype": "text/x-python",
   "name": "python",
   "nbconvert_exporter": "python",
   "pygments_lexer": "ipython3",
   "version": "3.6.4"
  }
 },
 "nbformat": 4,
 "nbformat_minor": 2
}
