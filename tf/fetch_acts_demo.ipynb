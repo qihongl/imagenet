{
 "cells": [
  {
   "cell_type": "code",
   "execution_count": 1,
   "metadata": {},
   "outputs": [
    {
     "name": "stderr",
     "output_type": "stream",
     "text": [
      "/home/qlu/.conda/envs/brainiak/lib/python3.6/site-packages/h5py/__init__.py:36: FutureWarning: Conversion of the second argument of issubdtype from `float` to `np.floating` is deprecated. In future, it will be treated as `np.float64 == np.dtype(float).type`.\n",
      "  from ._conv import register_converters as _register_converters\n"
     ]
    }
   ],
   "source": [
    "\"\"\"\n",
    "Written by Matteo Dunnhofer - 2017\n",
    "\n",
    "Test procedure - evaluating accuracy on validation (test) set\n",
    "\"\"\"\n",
    "import os.path\n",
    "import tensorflow as tf\n",
    "import train_util as tu\n",
    "from models import alexnet\n",
    "import numpy as np\n",
    "import pandas as pd \n",
    "\n",
    "TOP_K = 5\n",
    "K_PATCHES = 5\n",
    "DISPLAY_STEP = 10\n",
    "IMAGENET_PATH = '/scratch/gpfs/qlu/ILSVRC2012'\n",
    "CKPT_PATH = '/tigress/qlu/logs/ILSVRC2012/ckpt-alexnet00'\n",
    "\n",
    "\n",
    "top_k = TOP_K\n",
    "k_patches = K_PATCHES\n",
    "display_step = DISPLAY_STEP\n",
    "imagenet_path = IMAGENET_PATH\n",
    "ckpt_path = CKPT_PATH"
   ]
  },
  {
   "cell_type": "code",
   "execution_count": 2,
   "metadata": {},
   "outputs": [],
   "source": [
    "# def test(top_k, k_patches, display_step,imagenet_path,ckpt_path):\n",
    "test_images = sorted(os.listdir(os.path.join(imagenet_path, 'ILSVRC2012_img_val')))\n",
    "test_labels = tu.read_test_labels(os.path.join(imagenet_path, 'data/ILSVRC2012_validation_ground_truth.txt'))\n",
    "test_examples = len(test_images)\n",
    "\n",
    "x = tf.placeholder(tf.float32, [None, 224, 224, 3])\n",
    "y = tf.placeholder(tf.float32, [None, 1000])\n",
    "\n",
    "_, pred = alexnet.classifier(x, 1.0)\n",
    "\n",
    "# calculate the average precision of the crops of the image\n",
    "avg_prediction = tf.div(tf.reduce_sum(pred, 0), k_patches)\n",
    "\n",
    "# accuracy\n",
    "top1_correct = tf.equal(tf.argmax(avg_prediction, 0), tf.argmax(y, 1))\n",
    "top1_accuracy = tf.reduce_mean(tf.cast(top1_correct, tf.float32))\n",
    "\n",
    "topk_correct = tf.nn.in_top_k(tf.stack([avg_prediction]), tf.argmax(y, 1), k=top_k)\n",
    "topk_accuracy = tf.reduce_mean(tf.cast(topk_correct, tf.float32))\n",
    "\n",
    "saver = tf.train.Saver()"
   ]
  },
  {
   "cell_type": "code",
   "execution_count": 10,
   "metadata": {},
   "outputs": [
    {
     "data": {
      "text/plain": [
       "numpy.ndarray"
      ]
     },
     "execution_count": 10,
     "metadata": {},
     "output_type": "execute_result"
    }
   ],
   "source": [
    "type(test_labels[0])"
   ]
  },
  {
   "cell_type": "code",
   "execution_count": 3,
   "metadata": {},
   "outputs": [],
   "source": [
    "sess = tf.InteractiveSession()"
   ]
  },
  {
   "cell_type": "code",
   "execution_count": 5,
   "metadata": {},
   "outputs": [],
   "source": [
    "# tf.get_default_graph().as_graph_def()\n",
    "# for op in sess.graph.get_operations(): \n",
    "#     print(op.name)"
   ]
  },
  {
   "cell_type": "code",
   "execution_count": 4,
   "metadata": {},
   "outputs": [
    {
     "name": "stdout",
     "output_type": "stream",
     "text": [
      "INFO:tensorflow:Restoring parameters from /tigress/qlu/logs/ILSVRC2012/ckpt-alexnet00/alexnet-cnn.ckpt\n"
     ]
    }
   ],
   "source": [
    "saver.restore(sess, os.path.join(ckpt_path, 'alexnet-cnn.ckpt'))"
   ]
  },
  {
   "cell_type": "code",
   "execution_count": 5,
   "metadata": {},
   "outputs": [],
   "source": [
    "i = 0 \n",
    "image_patches = tu.read_k_patches(os.path.join(imagenet_path, 'ILSVRC2012_img_val', test_images[0]), k_patches)\n",
    "label = test_labels[0]\n",
    "conv1 = tf.get_default_graph().get_tensor_by_name('alexnet_cnn/alexnet_cnn_conv1/Relu:0')\n",
    "conv2 = tf.get_default_graph().get_tensor_by_name('alexnet_cnn/alexnet_cnn_conv2/Relu:0')\n",
    "conv3 = tf.get_default_graph().get_tensor_by_name('alexnet_cnn/alexnet_cnn_conv3/Relu:0')\n",
    "conv4 = tf.get_default_graph().get_tensor_by_name('alexnet_cnn/alexnet_cnn_conv4/Relu:0')\n",
    "conv5 = tf.get_default_graph().get_tensor_by_name('alexnet_cnn/alexnet_cnn_conv5/Relu:0')\n",
    "fc1 = tf.get_default_graph().get_tensor_by_name('alexnet_classifier/alexnet_classifier_fc1/Relu:0')\n",
    "fc2 = tf.get_default_graph().get_tensor_by_name('alexnet_classifier/alexnet_classifier_fc2/Relu:0')\n",
    "fc3 = tf.get_default_graph().get_tensor_by_name('alexnet_classifier/alexnet_classifier_output/Add:0')\n",
    "\n",
    "fetch_list = [top1_accuracy, topk_accuracy, conv1, conv2, conv3, conv4, conv5, fc1, fc2, fc3]\n",
    "fetched_list = sess.run(fetch_list, feed_dict={x: image_patches, y: [label]})\n",
    "[top1_f, topk_f, conv1_f, conv2_f, conv3_f, conv4_f, conv5_f, fc1_f, fc2_f, fc3_f] = fetched_list"
   ]
  },
  {
   "cell_type": "code",
   "execution_count": 13,
   "metadata": {},
   "outputs": [
    {
     "name": "stdout",
     "output_type": "stream",
     "text": [
      "(5, 56, 56, 96)\n",
      "(5, 27, 27, 256)\n",
      "(5, 13, 13, 384)\n",
      "(5, 13, 13, 384)\n",
      "(5, 13, 13, 256)\n",
      "(5, 4096)\n",
      "(5, 4096)\n",
      "(5, 1000)\n"
     ]
    }
   ],
   "source": [
    "print(np.shape(conv1_f))\n",
    "print(np.shape(conv2_f))\n",
    "print(np.shape(conv3_f))\n",
    "print(np.shape(conv4_f))\n",
    "print(np.shape(conv5_f))\n",
    "print(np.shape(fc1_f))\n",
    "print(np.shape(fc2_f))\n",
    "print(np.shape(fc3_f))"
   ]
  },
  {
   "cell_type": "code",
   "execution_count": 6,
   "metadata": {},
   "outputs": [],
   "source": [
    "with tf.Session(config=tf.ConfigProto()) as sess:\n",
    "    saver.restore(sess, os.path.join(ckpt_path, 'alexnet-cnn.ckpt'))\n",
    "\n",
    "    total_top1_accuracy = 0.\n",
    "    total_topk_accuracy = 0.\n",
    "\n",
    "    for i in range(test_examples):\n",
    "        # taking a few patches from an image\n",
    "        image_patches = tu.read_k_patches(os.path.join(imagenet_path, 'ILSVRC2012_img_val', test_images[i]), k_patches)\n",
    "        label = test_labels[i]\n",
    "\n",
    "        top1_a, topk_a = sess.run([top1_accuracy, topk_accuracy], feed_dict={x: image_patches, y: [label]})\n",
    "        total_top1_accuracy += top1_a\n",
    "        total_topk_accuracy += topk_a\n",
    "#         if i % display_step == 0:\n",
    "#             print ('Examples done: {:5d}/{} ---- Top-1: {:.4f} -- Top-{}: {:.4f}'.format(\n",
    "#                 i + 1, test_examples, total_top1_accuracy / (i + 1), top_k, total_topk_accuracy / (i + 1)))\n",
    "\n",
    "    print ('---- Final accuracy ----')\n",
    "    print ('Top-1: {:.4f} -- Top-{}: {:.4f}'.format(total_top1_accuracy / test_examples, top_k, total_topk_accuracy / test_examples))\n",
    "    print ('Top-1 error rate: {:.4f} -- Top-{} error rate: {:.4f}'.format(1 - (total_top1_accuracy / test_examples), top_k, 1 - (total_topk_accuracy / test_examples)))"
   ]
  },
  {
   "cell_type": "code",
   "execution_count": 4,
   "metadata": {},
   "outputs": [
    {
     "name": "stdout",
     "output_type": "stream",
     "text": [
      "---- Final accuracy ----\n",
      "Top-1: 0.0000 -- Top-5: 0.0000\n",
      "Top-1 error rate: 1.0000 -- Top-5 error rate: 1.0000\n"
     ]
    }
   ],
   "source": [
    "        print ('---- Final accuracy ----')\n",
    "        print ('Top-1: {:.4f} -- Top-{}: {:.4f}'.format(total_top1_accuracy / test_examples, top_k, total_topk_accuracy / test_examples))\n",
    "        print ('Top-1 error rate: {:.4f} -- Top-{} error rate: {:.4f}'.format(1 - (total_top1_accuracy / test_examples), top_k, 1 - (total_topk_accuracy / test_examples)))"
   ]
  },
  {
   "cell_type": "code",
   "execution_count": null,
   "metadata": {},
   "outputs": [],
   "source": []
  }
 ],
 "metadata": {
  "kernelspec": {
   "display_name": "Python 3",
   "language": "python",
   "name": "python3"
  },
  "language_info": {
   "codemirror_mode": {
    "name": "ipython",
    "version": 3
   },
   "file_extension": ".py",
   "mimetype": "text/x-python",
   "name": "python",
   "nbconvert_exporter": "python",
   "pygments_lexer": "ipython3",
   "version": "3.6.4"
  }
 },
 "nbformat": 4,
 "nbformat_minor": 2
}
